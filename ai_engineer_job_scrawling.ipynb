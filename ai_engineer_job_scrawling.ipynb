{
 "cells": [
  {
   "cell_type": "code",
   "execution_count": 4,
   "metadata": {},
   "outputs": [
    {
     "name": "stdout",
     "output_type": "stream",
     "text": [
      "💾 Check your data here: https://console.apify.com/storage/datasets/jFeCHyP7qQc5CiMXP\n"
     ]
    }
   ],
   "source": [
    "from apify_client import ApifyClient\n",
    "\n",
    "# Initialize the ApifyClient with your Apify API token\n",
    "client = ApifyClient(\"apify_api_zOmzB0alDFVF4rljZlWxZKaYuVBJwj0vvOL3\")\n",
    "\n",
    "# Prepare the Actor input\n",
    "run_input = {\n",
    "    \"searchUrl\": \"https://www.linkedin.com/jobs/search/?currentJobId=3937287046&f_E=2&keywords=AI%20engineer&origin=JOB_SEARCH_PAGE_JOB_FILTER&sortBy=R\",\n",
    "    \"startPage\": 1,\n",
    "    \"count\": 2000,\n",
    "    \"proxy\": {\n",
    "        \"useApifyProxy\": True,\n",
    "        \"apifyProxyGroups\": [\"BUYPROXIES94952\"],\n",
    "        \"apifyProxyCountry\": \"US\",\n",
    "    },\n",
    "    \"minDelay\": 2,\n",
    "    \"maxDelay\": 5,\n",
    "}\n",
    "\n",
    "# Run the Actor and wait for it to finish\n",
    "run = client.actor(\"curious_coder/linkedin-jobs-search-scraper\").call(run_input=run_input)\n",
    "\n",
    "# Fetch and print Actor results from the run's dataset (if there are any)\n",
    "print(\"💾 Check your data here: https://console.apify.com/storage/datasets/\" + run[\"defaultDatasetId\"])"
   ]
  }
 ],
 "metadata": {
  "kernelspec": {
   "display_name": "Python 3",
   "language": "python",
   "name": "python3"
  },
  "language_info": {
   "codemirror_mode": {
    "name": "ipython",
    "version": 3
   },
   "file_extension": ".py",
   "mimetype": "text/x-python",
   "name": "python",
   "nbconvert_exporter": "python",
   "pygments_lexer": "ipython3",
   "version": "3.11.6"
  }
 },
 "nbformat": 4,
 "nbformat_minor": 2
}
